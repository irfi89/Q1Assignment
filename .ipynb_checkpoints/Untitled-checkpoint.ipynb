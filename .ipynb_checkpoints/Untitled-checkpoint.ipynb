{
 "cells": [
  {
   "cell_type": "markdown",
   "metadata": {},
   "source": [
    "# Name : Irfan Ahmed"
   ]
  },
  {
   "cell_type": "markdown",
   "metadata": {},
   "source": [
    "# Roll No : AIC000138"
   ]
  },
  {
   "cell_type": "raw",
   "metadata": {},
   "source": [
    "Q.1 Calculate Area of a Circle"
   ]
  },
  {
   "cell_type": "code",
   "execution_count": null,
   "metadata": {},
   "outputs": [],
   "source": [
    "import math\n",
    "radius = float(input(\"Enter radiue of circle\"))\n",
    "area = math.pi * (radius * radius )\n",
    "print(\"Area of circle for radius \",radius, \" is \",area)"
   ]
  },
  {
   "cell_type": "raw",
   "metadata": {},
   "source": [
    "Q2. Check Number either positive, negative or zero"
   ]
  },
  {
   "cell_type": "code",
   "execution_count": null,
   "metadata": {},
   "outputs": [],
   "source": [
    "number = int(input(\"Enter a valid integer number\"))\n",
    "if(number > 0):\n",
    "    print(\"Positive Number Entered\")\n",
    "elif(number < 0):\n",
    "    print(\"Negative Number Entered\")\n",
    "else:\n",
    "    print(\"Zero Entered\")\n",
    "    \n"
   ]
  },
  {
   "cell_type": "raw",
   "metadata": {},
   "source": [
    "Q3. Divisibility Check of two numbers"
   ]
  },
  {
   "cell_type": "code",
   "execution_count": null,
   "metadata": {},
   "outputs": [],
   "source": [
    "numerator = int(input(\"Enter numerator\"))\n",
    "denominator = int(input(\"Enter denominator\"))\n",
    "if(numerator%denominator == 0):\n",
    "    print(\"\", numerator, \"is Completely divisible by \", denominator)\n",
    "else:\n",
    "     print(numerator, \"is NOT Completely divisible by \", denominator)"
   ]
  },
  {
   "cell_type": "raw",
   "metadata": {},
   "source": [
    "Q4. Days Calculator"
   ]
  },
  {
   "cell_type": "code",
   "execution_count": null,
   "metadata": {},
   "outputs": [],
   "source": [
    "date1_entry = input('Enter a date in dd/mm/yy format: ')\n",
    "day, month, year = map(int, date1_entry.split('/'))\n",
    "date1 = datetime.date(year, month, day)\n",
    "date2_entry = input('Enter a date in dd/mm/yy format: ')\n",
    "day, month, year = map(int, date2_entry.split('/'))\n",
    "date2 = datetime.date(year, month, day)\n",
    "days = ((date2-date1).days)\n",
    "print(days)"
   ]
  },
  {
   "cell_type": "raw",
   "metadata": {},
   "source": [
    "Q5. Calculate Volume of a sphere"
   ]
  },
  {
   "cell_type": "code",
   "execution_count": null,
   "metadata": {},
   "outputs": [],
   "source": [
    "import math\n",
    "radius = float(input(\"Enter radiue of sphere\"))\n",
    "area = 4/3 * math.pi * (radius * radius * radius)\n",
    "print(\"Volume of the Sphere with Radius \",radius, \" is \",area)"
   ]
  },
  {
   "cell_type": "raw",
   "metadata": {},
   "source": [
    "Q6. Copy string n times"
   ]
  },
  {
   "cell_type": "code",
   "execution_count": null,
   "metadata": {},
   "outputs": [],
   "source": [
    "string_input = input(\"Enter string : \")\n",
    "number = int(input(\"How many copies of String you need: \"))\n",
    "print(number, \" of copies are \",end='')\n",
    "for i in range(0,number):\n",
    "    print(string_input, end='')"
   ]
  },
  {
   "cell_type": "raw",
   "metadata": {},
   "source": [
    "Q7. Check if number is Even or Odd"
   ]
  },
  {
   "cell_type": "code",
   "execution_count": null,
   "metadata": {},
   "outputs": [],
   "source": [
    "number = int(input(\"Enter number\"))\n",
    "if(number % 2 == 0):\n",
    "    print(number, \"is Even\")\n",
    "else:\n",
    "    print(number, \"is Odd\")"
   ]
  },
  {
   "cell_type": "raw",
   "metadata": {},
   "source": [
    "Q8. Vowel Tester"
   ]
  },
  {
   "cell_type": "code",
   "execution_count": null,
   "metadata": {},
   "outputs": [],
   "source": [
    "vowelList = {'a','e','i','o','u'}\n",
    "letter = input('Enter a character: ')\n",
    "isVowel = False;\n",
    "for val in vowelList:\n",
    "    if(val == letter):\n",
    "        print(\"Letter \", val, \" is Vowel\")\n",
    "        isVowel = True;\n",
    "        \n",
    "if(isVowel != True):\n",
    "    print(\"Letter \", letter, \" is Not Vowel\")\n"
   ]
  },
  {
   "cell_type": "raw",
   "metadata": {},
   "source": [
    "Q9. Area of Triangle"
   ]
  },
  {
   "cell_type": "code",
   "execution_count": null,
   "metadata": {},
   "outputs": [],
   "source": [
    "base = float(input(\"Enter magnitude of Triangle base:\"))\n",
    "height = float(input(\"Enter Magnitude of Triangle Height:\"))\n",
    "\n",
    "area = (base*height)/2\n",
    "\n",
    "print(\"Area of a Triangle with Height\", base, \" and Base \", height, \" is \", area)"
   ]
  },
  {
   "cell_type": "raw",
   "metadata": {},
   "source": [
    "Q10. Calculate Interest"
   ]
  },
  {
   "cell_type": "code",
   "execution_count": null,
   "metadata": {},
   "outputs": [],
   "source": [
    "principalAmount = float(input(\"Please enter principal amount: \"))\n",
    "interestRate = float(input(\"Please Enter Rate of interest in %: \"))\n",
    "noOfYears = float(input(\"Enter number of years for investment: \"))\n",
    "\n",
    "result = principalAmount*(1 + ((interestRate/100) * noOfYears))\n",
    "print(\"After \",noOfYears,\" years your principal amount \", principalAmount, \" over an interest rate of \",interestRate,\" % will be \", result)"
   ]
  },
  {
   "cell_type": "raw",
   "metadata": {},
   "source": [
    "Q11. Euclidean distance"
   ]
  },
  {
   "cell_type": "code",
   "execution_count": null,
   "metadata": {},
   "outputs": [],
   "source": [
    "import math\n",
    "\n",
    "x1 = float(input(\"Enter Co-ordinate for x1: \"))\n",
    "x2 = float(input(\"Enter Co-ordinate for x2: \"))\n",
    "y1 = float(input(\"Enter Co-ordinate for y1: \"))\n",
    "y2 = float(input(\"Enter Co-ordinate for y2: \"))\n",
    "\n",
    "d = math.sqrt( ((x2-x1)**2)+((y2-y1)**2) )\n",
    "print(\"Distance between points (\",x1,\", \",x2,\") and (\",y1,\", \",y2,\") is \", d)"
   ]
  },
  {
   "cell_type": "raw",
   "metadata": {},
   "source": [
    "Q12. Feet to Centimeter Converter"
   ]
  },
  {
   "cell_type": "code",
   "execution_count": null,
   "metadata": {},
   "outputs": [],
   "source": [
    "feet = float(input(\"Enter Height in Feet: \"))\n",
    "cm = float(2.54)\n",
    "             \n",
    "result = feet * 12 * cm             \n",
    "print(\"There are \",result,\" Cm in \",feet,\" ft\")"
   ]
  },
  {
   "cell_type": "raw",
   "metadata": {},
   "source": [
    "Q13. BMI Calculator"
   ]
  },
  {
   "cell_type": "code",
   "execution_count": null,
   "metadata": {},
   "outputs": [],
   "source": [
    "height = float(input(\"Enter Height in Cm: \"))\n",
    "weight = float(input(\"Enter Weight in Kg: \"))\n",
    "\n",
    "\n",
    "bmi = weight / (height/100)**2\n",
    "\n",
    "print(\"Your BMI is \", bmi)\n"
   ]
  },
  {
   "cell_type": "raw",
   "metadata": {},
   "source": [
    "Q14. Sum of n Positive Integers"
   ]
  },
  {
   "cell_type": "code",
   "execution_count": null,
   "metadata": {},
   "outputs": [],
   "source": [
    "n = int(input(\"Enter value of n: \"))\n",
    "\n",
    "sum = 0;\n",
    "for i in range(n,0,-1):\n",
    "    sum += i\n",
    "   \n",
    "print(\"Sum of \",n,\" Positive integers till \",n,\" is \", sum)"
   ]
  },
  {
   "cell_type": "raw",
   "metadata": {},
   "source": [
    "Q15. Digits Sum of a Number"
   ]
  },
  {
   "cell_type": "code",
   "execution_count": null,
   "metadata": {},
   "outputs": [],
   "source": [
    "n = int(input(\"Enter a number: \"))\n",
    "\n",
    "sum = 0\n",
    "var = \"\"\n",
    "while n > 0:\n",
    "    sum += n%10 \n",
    "    var += str(n%10) + \"+\"\n",
    "    n = int(n/10)\n",
    "   \n",
    "var = var[:-1]\n",
    "   \n",
    "print(\"Sum of \", var, \" is \",  sum)\n",
    "\n",
    "\n"
   ]
  },
  {
   "cell_type": "code",
   "execution_count": null,
   "metadata": {},
   "outputs": [],
   "source": [
    "Q16. Decimal to Binary Converter"
   ]
  },
  {
   "cell_type": "code",
   "execution_count": null,
   "metadata": {},
   "outputs": [],
   "source": [
    "p =n = int(input(\"Enter a decimal number: \"))\n",
    " \n",
    "binaryNum = \"\"\n",
    "\n",
    "while n > 0:\n",
    "    binaryNum += str(n%2) \n",
    "    n = int(n/2)\n",
    "        \n",
    "print(\"Binary Representation of \",p,\" is \", binaryNum[::-1] )"
   ]
  },
  {
   "cell_type": "raw",
   "metadata": {},
   "source": [
    "Q17. Binary to Decimal Converter"
   ]
  },
  {
   "cell_type": "code",
   "execution_count": null,
   "metadata": {},
   "outputs": [],
   "source": [
    "binary = input(\"Enter a Binary number: \")\n",
    " \n",
    "denary = 0  \n",
    "for digit in binary:  \n",
    "  denary = denary*2 + int(digit)  \n",
    "  \n",
    "print(\"Decimal Representation of \",binary, \" is \",denary )"
   ]
  },
  {
   "cell_type": "raw",
   "metadata": {},
   "source": [
    "Q18. Vowel and Consonants Counter"
   ]
  },
  {
   "cell_type": "code",
   "execution_count": null,
   "metadata": {},
   "outputs": [],
   "source": [
    "lst = {'a','e','i','o','u'}\n",
    "text = input('Enter text: ')\n",
    "\n",
    "Vowels = 0\n",
    "Consonants = 0\n",
    "\n",
    "for c in text:\n",
    "    if c in lst :\n",
    "        Vowels+= 1\n",
    "    else:\n",
    "        Consonants+=1\n",
    "        \n",
    "print(\"Vowels:\", Vowels)        \n",
    "print(\"Consonants:\", Consonants)             \n",
    "        "
   ]
  },
  {
   "cell_type": "raw",
   "metadata": {},
   "source": [
    "Q19. Palindrome tester"
   ]
  },
  {
   "cell_type": "code",
   "execution_count": null,
   "metadata": {},
   "outputs": [],
   "source": [
    "text1 = input(\"Enter text: \")\n",
    "\n",
    "text2 = text1[::-1]\n",
    "\n",
    "if text1 == text2 :\n",
    "    print(\"Text \",text1,\" is Palindrome\")\n",
    "else:\n",
    "    print(\"Text \",text1,\" is not a Palindrome\")"
   ]
  },
  {
   "cell_type": "raw",
   "metadata": {},
   "source": [
    "Q20. Count Alphabets, Numbers and Special Characters"
   ]
  },
  {
   "cell_type": "code",
   "execution_count": null,
   "metadata": {},
   "outputs": [],
   "source": [
    "text = input(\"Enter text: \")\n",
    "\n",
    "scCount = 0;\n",
    "dCount = 0;\n",
    "aCount = 0;\n",
    "sCount=0;\n",
    "\n",
    "for ch in text:\n",
    "    if((ch >= 'a' and ch <= 'z') or (ch >= 'A' and ch <= 'Z')): \n",
    "        aCount += 1\n",
    "    elif(ch >= '0' and ch <= '9'):\n",
    "        dCount += 1\n",
    "    elif(ch == ' '):\n",
    "        sCount +=1\n",
    "    else:\n",
    "        scCount += 1\n",
    "\n",
    "print(\"Numbers = \", dCount) \n",
    "print(\"Alphabets = \",aCount)\n",
    "print(\"Special Characters = \", scCount)\n",
    "print(\"Spaces = \", sCount)"
   ]
  },
  {
   "cell_type": "raw",
   "metadata": {},
   "source": [
    "Q.21 Write a Python program to construct the following pattern"
   ]
  },
  {
   "cell_type": "code",
   "execution_count": null,
   "metadata": {},
   "outputs": [],
   "source": [
    "for i in range(0,5,1):\n",
    "    for j in range(0,i):\n",
    "        print(\"*\", end='')\n",
    "    print()\n",
    " \n",
    "for k in range(5,0,-1):\n",
    "    for l in range(0,k):\n",
    "        print(\"*\", end='')\n",
    "    print()"
   ]
  },
  {
   "cell_type": "raw",
   "metadata": {},
   "source": [
    "Q.22 Write a Python program to construct the following pattern"
   ]
  },
  {
   "cell_type": "code",
   "execution_count": null,
   "metadata": {},
   "outputs": [],
   "source": [
    "for i in range(0,6,1):\n",
    "    for j in range(1,i):\n",
    "        print(j, end='')\n",
    "    print()\n",
    " \n",
    "for k in range(6,1,-1):\n",
    "    for l in range(1,k):\n",
    "        print(l, end='')\n",
    "    print()"
   ]
  },
  {
   "cell_type": "raw",
   "metadata": {},
   "source": [
    "Q.23 Write a Python program to construct the following pattern"
   ]
  },
  {
   "cell_type": "code",
   "execution_count": null,
   "metadata": {},
   "outputs": [],
   "source": [
    "for i in range(0,10,1):\n",
    "    for j in range(0,i):\n",
    "        print(i, end='')\n",
    "    print()"
   ]
  },
  {
   "cell_type": "code",
   "execution_count": null,
   "metadata": {},
   "outputs": [],
   "source": []
  }
 ],
 "metadata": {
  "kernelspec": {
   "display_name": "Python 3",
   "language": "python",
   "name": "python3"
  },
  "language_info": {
   "codemirror_mode": {
    "name": "ipython",
    "version": 3
   },
   "file_extension": ".py",
   "mimetype": "text/x-python",
   "name": "python",
   "nbconvert_exporter": "python",
   "pygments_lexer": "ipython3",
   "version": "3.6.4"
  }
 },
 "nbformat": 4,
 "nbformat_minor": 2
}
